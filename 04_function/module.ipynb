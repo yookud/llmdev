{
 "cells": [
  {
   "cell_type": "code",
   "execution_count": null,
   "id": "27c52cbc",
   "metadata": {},
   "outputs": [],
   "source": [
    "import math\n",
    "\n",
    "# 平方根の計算\n",
    "print(math.sqrt(25))  # 5.0\n",
    "\n",
    "# 指数関数の計算\n",
    "print(math.exp(1))  # 2.718281828459045（自然対数の底 e）\n",
    "\n",
    "# 定数の使用\n",
    "print(math.pi)  # 3.141592653589793"
   ]
  },
  {
   "cell_type": "code",
   "execution_count": null,
   "id": "7fb0588b",
   "metadata": {},
   "outputs": [],
   "source": [
    "import datetime\n",
    "\n",
    "# 現在の日付と時刻を取得\n",
    "now = datetime.datetime.now()\n",
    "print(now)  # 出力例: 2024-10-30 15:52:21.412272\n",
    "\n",
    "# 特定の日付を作成\n",
    "birthday = datetime.datetime(1995, 5, 17)\n",
    "print(birthday)  # 1995-05-17 00:00:00\n",
    "\n",
    "# 日付の差を計算\n",
    "date1 = datetime.datetime(2023, 1, 1)\n",
    "date2 = datetime.datetime(2024, 1, 1)\n",
    "diff = date2 - date1\n",
    "print(diff.days)  # 365"
   ]
  },
  {
   "cell_type": "code",
   "execution_count": null,
   "id": "4a9f95ba",
   "metadata": {},
   "outputs": [],
   "source": [
    "import random\n",
    "\n",
    "# ランダムな整数を生成\n",
    "print(random.randint(1, 10))  # 出力例: 5（1から10の間のランダムな整数）\n",
    "\n",
    "# リストをシャッフル\n",
    "my_list = [1, 2, 3, 4, 5]\n",
    "random.shuffle(my_list)\n",
    "print(my_list)  # 出力例: [3, 5, 2, 4, 1]（順番はランダム）\n",
    "\n",
    "# リストからランダムに要素を選択\n",
    "print(random.choice(my_list))  # 出力例: 1（リストからランダムに1つ選ばれる）"
   ]
  },
  {
   "cell_type": "code",
   "execution_count": null,
   "id": "0e95a269",
   "metadata": {},
   "outputs": [],
   "source": [
    "import os\n",
    "\n",
    "# カレントディレクトリの取得\n",
    "print(os.getcwd())  # 出力例: c:\\Users\\user1\\Downloads\\llmdev\\04_function\n",
    "\n",
    "# 新しいディレクトリを作成\n",
    "os.mkdir(\"new_folder\")\n",
    "\n",
    "# ファイルの存在確認\n",
    "print(os.path.exists(\"example.txt\"))  # True（ファイルが存在する場合）"
   ]
  },
  {
   "cell_type": "code",
   "execution_count": null,
   "id": "f3d62794",
   "metadata": {},
   "outputs": [],
   "source": [
    "import urllib.request\n",
    "\n",
    "# URLを指定してデータを取得\n",
    "url = \"https://techacademy.jp\"\n",
    "response = urllib.request.urlopen(url)\n",
    "\n",
    "# HTMLデータを読み込み、UTF-8文字列にデコード\n",
    "html = response.read().decode(\"utf-8\")\n",
    "print(html[:500])  # 取得したHTMLの先頭500文字を表示"
   ]
  },
  {
   "cell_type": "code",
   "execution_count": null,
   "id": "6d72490b",
   "metadata": {},
   "outputs": [],
   "source": [
    "import math_operations  # 自作モジュールをインポート\n",
    "\n",
    "# モジュール内の関数を使う\n",
    "result1 = math_operations.add(5, 3)\n",
    "result2 = math_operations.subtract(10, 4)\n",
    "\n",
    "print(\"5 + 3 =\", result1)       # 出力: 5 + 3 = 8\n",
    "print(\"10 - 4 =\", result2)      # 出力: 10 - 4 = 6"
   ]
  }
 ],
 "metadata": {
  "kernelspec": {
   "display_name": ".venv",
   "language": "python",
   "name": "python3"
  },
  "language_info": {
   "name": "python",
   "version": "3.12.10"
  }
 },
 "nbformat": 4,
 "nbformat_minor": 5
}
