{
 "cells": [
  {
   "cell_type": "markdown",
   "id": "815e83d0",
   "metadata": {},
   "source": [
    "関数の仕様：\n",
    "\n",
    "文字列を受け取り、バリデーションの結果をブール値で返す関数を作成してください。\n",
    "バリデーションのルールは以下です。\n",
    "ユーザー名は5文字以上15文字以内。条件を満たさない場合は エラー: ユーザー名は5文字以上15文字以内で入力してください と表示して False を返してください。\n",
    "ユーザー名に空白は使えない。含まれている場合は エラー: ユーザー名に空白を含めることはできません と表示して False を返してください。\n",
    "ユーザー名は英数字（アルファベットと数字）のみ使用可能。それ以外の文字が含まれている場合は エラー: ユーザー名は英数字のみ使用できます と表示して False を返してください。\n",
    "すべての条件を満たす場合は、Trueを返す（※成功メッセージは表示しない）。\n",
    "呼び出し側の仕様：\n",
    "\n",
    "ユーザーにユーザー名を入力させ、そのユーザー名が適切かを、上記のバリデーション関数で判定させてください。\n",
    "バリデーションの結果、条件を満たしていたら ユーザー名は有効です と表示、そうでなければ 不正なユーザー名です と表示してください。"
   ]
  },
  {
   "cell_type": "code",
   "execution_count": null,
   "id": "2bb194e6",
   "metadata": {},
   "outputs": [],
   "source": [
    "def validate_username(username):\n",
    "    # ユーザー名は5文字以上15文字以内。条件を満たさない場合は エラー: ユーザー名は5文字以上15文字以内で入力してください と表示して False を返してください。\n",
    "    if not 5 <= len(username) <= 15:\n",
    "        print('エラー: ユーザー名は5文字以上15文字以内で入力してください')\n",
    "        return False\n",
    "\n",
    "    # ユーザー名に空白は使えない。含まれている場合は エラー: ユーザー名に空白を含めることはできません と表示して False を返してください。\n",
    "    if ' ' in username:\n",
    "        print('エラー: ユーザー名に空白を含めることはできません')\n",
    "        return False\n",
    "\n",
    "    # ユーザー名は英数字（アルファベットと数字）のみ使用可能。それ以外の文字が含まれている場合は エラー: ユーザー名は英数字のみ使用できます と表示して False を返してください。\n",
    "    if not username.isalnum():\n",
    "        print('エラー: ユーザー名は英数字のみ使用できます')\n",
    "        return False\n",
    "\n",
    "    # すべての条件を満たす場合は、Trueを返す（※成功メッセージは表示しない）。\n",
    "    return True\n",
    "\n",
    "\n",
    "username = input('username: ')\n",
    "\n",
    "# バリデーションの結果、条件を満たしていたら ユーザー名は有効です と表示、そうでなければ 不正なユーザー名です と表示してください。\n",
    "if validate_username(username):\n",
    "    print('ユーザー名は有効です')\n",
    "else:\n",
    "    print('不正なユーザー名です')"
   ]
  }
 ],
 "metadata": {
  "kernelspec": {
   "display_name": ".venv",
   "language": "python",
   "name": "python3"
  },
  "language_info": {
   "codemirror_mode": {
    "name": "ipython",
    "version": 3
   },
   "file_extension": ".py",
   "mimetype": "text/x-python",
   "name": "python",
   "nbconvert_exporter": "python",
   "pygments_lexer": "ipython3",
   "version": "3.12.10"
  }
 },
 "nbformat": 4,
 "nbformat_minor": 5
}
