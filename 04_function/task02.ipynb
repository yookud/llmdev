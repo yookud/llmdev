{
 "cells": [
  {
   "cell_type": "markdown",
   "id": "17300885",
   "metadata": {},
   "source": [
    "関数の仕様：\n",
    "\n",
    "URLを引数として受け取り、Webページのコンテンツの先頭500文字を日時のファイル名で保存し、ファイル名を戻り値として返す save_url_content() 関数を作成してください。関数の仕様は以下です。\n",
    "\n",
    "指定したURLからデータを取得し、UTF-8形式でデコードしてから先頭500文字を取得します。\n",
    "保存するファイル名は現在の日時（例: 20241030_155221.txt）とし、.txt 拡張子で保存してください。\n",
    "データを取得したファイルへ保存するために、Pythonの標準ライブラリ datetime モジュールを使って日時をファイル名に含めてください。\n",
    "作成されたファイル名を関数の戻り値として返してください。\n",
    "呼び出し側の仕様：\n",
    "\n",
    "以下のソースコードで関数を呼び出して確認してください。\n",
    "\n",
    "url = input(\"URLを入力してください: \")\n",
    "file_name = save_url_content(url)\n",
    "print(f\"Content saved in: {file_name}\")"
   ]
  },
  {
   "cell_type": "code",
   "execution_count": null,
   "id": "49a2c62b",
   "metadata": {},
   "outputs": [],
   "source": [
    "import datetime as dt\n",
    "import urllib.request\n",
    "\n",
    "def save_url_content(url):\n",
    "    # 指定したURLからデータを取得し、UTF-8形式でデコードしてから先頭500文字を取得します。\n",
    "    response = urllib.request.urlopen(url)\n",
    "    html = response.read().decode(\"utf-8\")\n",
    "    head = html[:500]\n",
    "\n",
    "    # 保存するファイル名は現在の日時（例: 20241030_155221.txt）とし、.txt 拡張子で保存してください。\n",
    "    # データを取得したファイルへ保存するために、Pythonの標準ライブラリ datetime モジュールを使って日時をファイル名に含めてください。\n",
    "    now = dt.datetime.now()\n",
    "    file_name = now.strftime('%Y%m%d_%H%M%S') + '.txt'\n",
    "    with open(file_name, \"w\") as file:\n",
    "        file.write(head)\n",
    "\n",
    "    # 作成されたファイル名を関数の戻り値として返してください。\n",
    "    return file_name\n",
    "\n",
    "\n",
    "url = input(\"URLを入力してください: \")\n",
    "file_name = save_url_content(url)\n",
    "print(f\"Content saved in: {file_name}\")"
   ]
  }
 ],
 "metadata": {
  "kernelspec": {
   "display_name": ".venv",
   "language": "python",
   "name": "python3"
  },
  "language_info": {
   "codemirror_mode": {
    "name": "ipython",
    "version": 3
   },
   "file_extension": ".py",
   "mimetype": "text/x-python",
   "name": "python",
   "nbconvert_exporter": "python",
   "pygments_lexer": "ipython3",
   "version": "3.12.10"
  }
 },
 "nbformat": 4,
 "nbformat_minor": 5
}
