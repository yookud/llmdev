{
 "cells": [
  {
   "cell_type": "code",
   "execution_count": null,
   "id": "c5b56f91",
   "metadata": {},
   "outputs": [],
   "source": [
    "def is_palindrome(s):\n",
    "    if s == s[::-1]:\n",
    "        print(f\"「{s}」は回文です！\")\n",
    "    else:\n",
    "        print(f\"「{s}」は回文ではないです。\")"
   ]
  },
  {
   "cell_type": "code",
   "execution_count": null,
   "id": "88ff1b55",
   "metadata": {},
   "outputs": [],
   "source": [
    "is_palindrome(\"にんてんどううどんてんに\")"
   ]
  },
  {
   "cell_type": "code",
   "execution_count": null,
   "id": "2613a52b",
   "metadata": {},
   "outputs": [],
   "source": [
    "def is_palindrome(s):\n",
    "    if s == s[::-1]:\n",
    "        print(f\"「{s}」は回文です！\")\n",
    "    else:\n",
    "        print(f\"「{s}」は回文ではないです。\")\n",
    "\n",
    "is_palindrome(\"にんてんどううどんてんに\")\n",
    "\n",
    "is_palindrome(\"Pythonは便利だが遅い\")\n",
    "\n",
    "is_palindrome(\"no devil lived on\")"
   ]
  },
  {
   "cell_type": "code",
   "execution_count": null,
   "id": "aa199c63",
   "metadata": {},
   "outputs": [],
   "source": [
    "def greet(name):\n",
    "    print(f\"こんにちは、{name}さん！\")"
   ]
  },
  {
   "cell_type": "code",
   "execution_count": null,
   "id": "8548ee7d",
   "metadata": {},
   "outputs": [],
   "source": [
    "greet(\"太郎\")\n",
    "greet(\"花子\")"
   ]
  },
  {
   "cell_type": "code",
   "execution_count": null,
   "id": "e49d5d2b",
   "metadata": {},
   "outputs": [],
   "source": [
    "def introduce(name, age):\n",
    "    print(f\"こんにちは、{name}さん！ 年齢は{age}歳ですね。\")"
   ]
  },
  {
   "cell_type": "code",
   "execution_count": null,
   "id": "c8c64e49",
   "metadata": {},
   "outputs": [],
   "source": [
    "introduce(\"太郎\", 20)\n",
    "introduce(\"花子\", 25)"
   ]
  },
  {
   "cell_type": "code",
   "execution_count": null,
   "id": "df5bfc3b",
   "metadata": {},
   "outputs": [],
   "source": [
    "def introduce(name, age=18):\n",
    "    print(f\"こんにちは、{name}さん！ 年齢は{age}歳ですね。\")"
   ]
  },
  {
   "cell_type": "code",
   "execution_count": null,
   "id": "45f210bc",
   "metadata": {},
   "outputs": [],
   "source": [
    "introduce(\"太郎\")\n",
    "introduce(\"花子\", 25)"
   ]
  },
  {
   "cell_type": "code",
   "execution_count": null,
   "id": "81597f67",
   "metadata": {},
   "outputs": [],
   "source": [
    "def add(*args):\n",
    "    result = sum(args)\n",
    "    print(f\"合計:{result}\")\n",
    "\n",
    "add(1, 2, 3)\n",
    "add(5, 10, 15, 20)"
   ]
  },
  {
   "cell_type": "code",
   "execution_count": null,
   "id": "6335ddb1",
   "metadata": {},
   "outputs": [],
   "source": [
    "def introduce(**kwargs):\n",
    "    for key, value in kwargs.items():\n",
    "        print(f\"{key} : {value}\")\n",
    "\n",
    "introduce(name=\"太郎\", age=20, hobby=\"読書\")"
   ]
  },
  {
   "cell_type": "code",
   "execution_count": null,
   "id": "8b42e423",
   "metadata": {},
   "outputs": [],
   "source": [
    "def add(a, b):\n",
    "    result = a + b\n",
    "    return result"
   ]
  },
  {
   "cell_type": "code",
   "execution_count": null,
   "id": "3bbf6215",
   "metadata": {},
   "outputs": [],
   "source": [
    "total = add(3, 5)\n",
    "print(total)"
   ]
  }
 ],
 "metadata": {
  "kernelspec": {
   "display_name": ".venv",
   "language": "python",
   "name": "python3"
  },
  "language_info": {
   "name": "python",
   "version": "3.12.10"
  }
 },
 "nbformat": 4,
 "nbformat_minor": 5
}
