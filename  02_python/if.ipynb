{
 "cells": [
  {
   "cell_type": "code",
   "execution_count": null,
   "id": "f06573bd",
   "metadata": {},
   "outputs": [],
   "source": [
    "score = int(input(\"点数を入力してください: \"))\n",
    "\n",
    "if score >= 60:\n",
    "    print(\"合格です\")\n",
    "\n",
    "print(\"処理を終了します\")"
   ]
  },
  {
   "cell_type": "code",
   "execution_count": null,
   "id": "49035b77",
   "metadata": {},
   "outputs": [],
   "source": [
    "score = int(input(\"点数を入力してください: \"))\n",
    "\n",
    "if score >= 60:\n",
    "    print(\"合格です\")\n",
    "    print(\"おめでとうございます！\")\n",
    "else:\n",
    "    print(\"不合格です\")\n",
    "    print(\"もっとがんばりましょう\")\n",
    "\n",
    "print(\"処理を終了します\")"
   ]
  },
  {
   "cell_type": "code",
   "execution_count": null,
   "id": "7e75e51b",
   "metadata": {},
   "outputs": [],
   "source": [
    "score = int(input(\"点数を入力してください: \"))\n",
    "\n",
    "if score >= 90:\n",
    "    print(\"優秀です\")\n",
    "    print(\"大変よくできました！！\")\n",
    "\n",
    "elif score >= 60:\n",
    "    print(\"合格です\")\n",
    "    print(\"おめでとうございます！\")\n",
    "\n",
    "else:\n",
    "    print(\"不合格です\")\n",
    "    print(\"もっとがんばりましょう\")\n",
    "\n",
    "print(\"処理を終了します\")"
   ]
  },
  {
   "cell_type": "code",
   "execution_count": null,
   "id": "75b519b3",
   "metadata": {},
   "outputs": [],
   "source": [
    "score = 72  # 成績\n",
    "\n",
    "match score // 10:\n",
    "    case 10:\n",
    "        print(\"満点です！\")\n",
    "    case 9 | 8:\n",
    "        print(\"よくできました！\")\n",
    "    case 7 | 6:\n",
    "        print(\"合格です！\")\n",
    "    case _:\n",
    "        print(\"不合格です\")"
   ]
  },
  {
   "cell_type": "code",
   "execution_count": null,
   "id": "a9cefd18",
   "metadata": {},
   "outputs": [],
   "source": [
    "score = 72  # 成績\n",
    "\n",
    "match score:\n",
    "    case score if score == 100:\n",
    "        print(\"満点です！\")\n",
    "    case score if score >= 80:\n",
    "        print(\"よくできました！\")\n",
    "    case score if score >= 60:\n",
    "        print(\"合格です！\")\n",
    "    case _:\n",
    "        print(\"赤点です。。。\")"
   ]
  }
 ],
 "metadata": {
  "kernelspec": {
   "display_name": ".venv",
   "language": "python",
   "name": "python3"
  },
  "language_info": {
   "name": "python",
   "version": "3.12.10"
  }
 },
 "nbformat": 4,
 "nbformat_minor": 5
}
