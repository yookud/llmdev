{
 "cells": [
  {
   "cell_type": "markdown",
   "id": "086a5fc2",
   "metadata": {},
   "source": [
    "入力された元金と金利をもとに、10年後の金額を複利で予測するプログラムを作成しましょう。次の条件に従って計算を行ってください。\n",
    "\n",
    "ユーザーが元金（初期投資額）を入力します。入力には input() 関数を使用してください。\n",
    "ユーザーが年利（パーセンテージ）を入力します。入力には input() 関数を使用してください。\n",
    "繰り返し構文を使用して、10年間の金額を計算します。\n",
    "複利 とは、利子を次期の元金に組み入れる方式です。元金だけでなく利子にも次期の利子が付く方式で、預金や投資などに広く採用されています。例えば、元金が1000円、年利が5%の場合の金額は以下のように計算されます。課題では、この計算を繰り返し構文を使用して行います。\n",
    "\n",
    "1年後：1000 * (1 + (5 / 100)) = 1050.0\n",
    "2年後：1050.0 * (1 + (5 / 100)) = 1102.5\n",
    "3年後：1102.5 * (1 + (5 / 100)) = 1157.625 …"
   ]
  },
  {
   "cell_type": "code",
   "execution_count": 7,
   "id": "8b63da27",
   "metadata": {},
   "outputs": [
    {
     "name": "stdout",
     "output_type": "stream",
     "text": [
      "10年後の金額: 1628.89\n"
     ]
    }
   ],
   "source": [
    "amount = int(input('元金を入力してください：'))\n",
    "interest_rate = int(input('年利を入力してください：'))\n",
    "\n",
    "year = 1\n",
    "\n",
    "while year <= 10:\n",
    "    amount *= 1 + interest_rate/100\n",
    "    year += 1\n",
    "\n",
    "print(f'10年後の金額: {amount:.2f}')"
   ]
  }
 ],
 "metadata": {
  "kernelspec": {
   "display_name": ".venv",
   "language": "python",
   "name": "python3"
  },
  "language_info": {
   "codemirror_mode": {
    "name": "ipython",
    "version": 3
   },
   "file_extension": ".py",
   "mimetype": "text/x-python",
   "name": "python",
   "nbconvert_exporter": "python",
   "pygments_lexer": "ipython3",
   "version": "3.12.10"
  }
 },
 "nbformat": 4,
 "nbformat_minor": 5
}
