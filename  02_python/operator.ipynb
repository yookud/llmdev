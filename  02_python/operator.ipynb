{
 "cells": [
  {
   "cell_type": "code",
   "execution_count": null,
   "id": "8e4e50e4",
   "metadata": {},
   "outputs": [],
   "source": [
    "# 算術演算子の例\n",
    "a = 10\n",
    "b = 3\n",
    "\n",
    "sum_result = a + b\n",
    "diff_result = a - b\n",
    "product_result = a * b\n",
    "quotient_result = a / b    # 割り算（結果は浮動小数点）\n",
    "int_quotient_result = a // b  # 整数除算\n",
    "remainder_result = a % b\n",
    "power_result = a ** b      # 累乗\n",
    "\n",
    "print(\"加算: \", sum_result)          # 13\n",
    "print(\"減算: \", diff_result)         # 7\n",
    "print(\"乗算: \", product_result)      # 30\n",
    "print(\"割算（浮動小数点）: \", quotient_result)  # 3.333...\n",
    "print(\"整数除算: \", int_quotient_result)       # 3\n",
    "print(\"余り: \", remainder_result)     # 1\n",
    "print(\"累乗: \", power_result)         # 1000"
   ]
  },
  {
   "cell_type": "code",
   "execution_count": null,
   "id": "9f02f5f1",
   "metadata": {},
   "outputs": [],
   "source": [
    "# 複合代入演算子の例\n",
    "x = 10\n",
    "x += 5  # x = x + 5\n",
    "print(\"x += 5: \", x)  # 15\n",
    "\n",
    "x -= 3  # x = x - 3\n",
    "print(\"x -= 3: \", x)  # 12\n",
    "\n",
    "x *= 2  # x = x * 2\n",
    "print(\"x *= 2: \", x)  # 24\n",
    "\n",
    "x /= 4  # x = x / 4\n",
    "print(\"x /= 4: \", x)  # 6.0\n",
    "\n",
    "x //= 5  # x = x // 5\n",
    "print(\"x //= 5: \", x)  # 1.0\n",
    "\n",
    "x %= 3  # x = x % 3\n",
    "print(\"x %= 3: \", x)  # 1.0\n",
    "\n",
    "x **= 3  # x = x ** 3\n",
    "print(\"x **= 3: \", x)  # 1.0"
   ]
  },
  {
   "cell_type": "code",
   "execution_count": null,
   "id": "c38aa65e",
   "metadata": {},
   "outputs": [],
   "source": [
    "# 比較演算子の例\n",
    "a = 10\n",
    "b = 5\n",
    "\n",
    "print(\"a > b: \", a > b)    # True\n",
    "print(\"a < b: \", a < b)    # False\n",
    "print(\"a >= b: \", a >= b)  # True\n",
    "print(\"a <= b: \", a <= b)  # False\n",
    "print(\"a == b: \", a == b)  # False\n",
    "print(\"a != b: \", a != b)  # True"
   ]
  },
  {
   "cell_type": "code",
   "execution_count": null,
   "id": "7176c8a5",
   "metadata": {},
   "outputs": [],
   "source": [
    "# 連続比較の例\n",
    "x = 150\n",
    "print(\"100 < x < 200: \", 100 < x < 200)  # True\n",
    "\n",
    "y = 50\n",
    "print(\"100 < y < 200: \", 100 < y < 200)  # False"
   ]
  },
  {
   "cell_type": "code",
   "execution_count": null,
   "id": "7608994f",
   "metadata": {},
   "outputs": [],
   "source": [
    "# 論理演算子の例\n",
    "x = 15\n",
    "print(\"10 < x and x < 20: \", 10 < x and x < 20)  # True\n",
    "print(\"x < 10 or x > 20: \", x < 10 or x > 20)    # False\n",
    "print(\"not (x == 15): \", not (x == 15))          # False"
   ]
  }
 ],
 "metadata": {
  "kernelspec": {
   "display_name": ".venv",
   "language": "python",
   "name": "python3"
  },
  "language_info": {
   "name": "python",
   "version": "3.12.10"
  }
 },
 "nbformat": 4,
 "nbformat_minor": 5
}
