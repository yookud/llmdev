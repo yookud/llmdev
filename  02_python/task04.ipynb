{
 "cells": [
  {
   "cell_type": "markdown",
   "id": "f1ac40c1",
   "metadata": {},
   "source": [
    "ユーザーに2つの数値を入力させ、それらを割り算するプログラムを作成してください。\n",
    "数値の代わりに文字を入力した場合は「エラー: 数値を入力してください」と表示します。\n",
    "割る数が0の場合は「エラー: 0で割ることはできません」と表示します。\n",
    "計算が正常に完了した場合、結果を表示してください。"
   ]
  },
  {
   "cell_type": "code",
   "execution_count": null,
   "id": "75934c71",
   "metadata": {},
   "outputs": [],
   "source": [
    "try:\n",
    "  a = int(input(\"割られる数を入力してください：\"))\n",
    "  b = int(input(\"割る数を入力してください：\"))\n",
    "\n",
    "  print(f\"計算結果:{a/b}\")\n",
    "except ValueError:\n",
    "  print(\"エラー: 数値を入力してください\")\n",
    "except ZeroDivisionError:\n",
    "  print(\"エラー：0で割ることはできません\")"
   ]
  }
 ],
 "metadata": {
  "kernelspec": {
   "display_name": ".venv",
   "language": "python",
   "name": "python3"
  },
  "language_info": {
   "codemirror_mode": {
    "name": "ipython",
    "version": 3
   },
   "file_extension": ".py",
   "mimetype": "text/x-python",
   "name": "python",
   "nbconvert_exporter": "python",
   "pygments_lexer": "ipython3",
   "version": "3.12.10"
  }
 },
 "nbformat": 4,
 "nbformat_minor": 5
}
