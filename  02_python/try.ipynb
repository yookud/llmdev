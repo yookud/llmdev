{
 "cells": [
  {
   "cell_type": "code",
   "execution_count": null,
   "id": "81d2d288",
   "metadata": {},
   "outputs": [],
   "source": [
    "try:\n",
    "    # 例外が発生するかもしれない処理\n",
    "    num = int(input(\"整数を入力してください: \"))\n",
    "    result = 100 / num\n",
    "    print(f\"100 を {num} で割った結果は {result} です\")\n",
    "except ZeroDivisionError:\n",
    "    # 例外が発生した場合の処理\n",
    "    print(\"エラー: 0 で割ることはできません\")\n",
    "except ValueError:\n",
    "    print(\"エラー: 整数を入力してください\")"
   ]
  },
  {
   "cell_type": "code",
   "execution_count": null,
   "id": "17357c18",
   "metadata": {},
   "outputs": [],
   "source": [
    "try:\n",
    "    num = int(input(\"整数を入力してください: \"))\n",
    "    result = 100 / num\n",
    "    print(f\"100 を {num} で割った結果は {result} です\")\n",
    "except ZeroDivisionError:\n",
    "    print(\"エラー: 0 で割ることはできません\")\n",
    "except ValueError:\n",
    "    print(\"エラー: 整数を入力してください\")\n",
    "except Exception as e:\n",
    "    # 予期しない例外をキャッチ\n",
    "    print(f\"予期しないエラーが発生しました: {e}\")"
   ]
  },
  {
   "cell_type": "code",
   "execution_count": null,
   "id": "f6e2b7bd",
   "metadata": {},
   "outputs": [],
   "source": [
    "a = 100\n",
    "b = 0\n",
    "\n",
    "try:\n",
    "    # 割り算を行う前にチェック\n",
    "    if b == 0:\n",
    "        raise ZeroDivisionError(\"0 で割り算しようとしています\")\n",
    "    \n",
    "    # 安全な場合のみ割り算を行う\n",
    "    print(a / b)\n",
    "except ZeroDivisionError as e:\n",
    "    print(e)"
   ]
  },
  {
   "cell_type": "code",
   "execution_count": null,
   "id": "3251561d",
   "metadata": {},
   "outputs": [],
   "source": [
    "try:\n",
    "    num = int(input(\"整数を入力してください: \"))\n",
    "    result = 100 / num\n",
    "except ZeroDivisionError:\n",
    "    print(\"エラー: 0 で割ることはできません\")\n",
    "except ValueError:\n",
    "    print(\"エラー: 整数を入力してください\")\n",
    "else:\n",
    "    print(f\"計算結果: {result}\")\n",
    "finally:\n",
    "    print(\"プログラム終了\")"
   ]
  }
 ],
 "metadata": {
  "kernelspec": {
   "display_name": ".venv",
   "language": "python",
   "name": "python3"
  },
  "language_info": {
   "name": "python",
   "version": "3.12.10"
  }
 },
 "nbformat": 4,
 "nbformat_minor": 5
}
