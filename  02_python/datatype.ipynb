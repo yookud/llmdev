{
 "cells": [
  {
   "cell_type": "code",
   "execution_count": null,
   "id": "45526d84",
   "metadata": {},
   "outputs": [],
   "source": [
    "# 整数の代入\n",
    "a = 10\n",
    "b = -5\n",
    "c = 0\n",
    "\n",
    "# 整数同士の計算\n",
    "sum_result = a + b  # 10 + (-5) = 5\n",
    "product_result = a * b  # 10 * (-5) = -50\n",
    "\n",
    "print(\"a:\", a)\n",
    "print(\"b:\", b)\n",
    "print(\"c:\", c)\n",
    "print(\"合計:\", sum_result)\n",
    "print(\"積:\", product_result)"
   ]
  },
  {
   "cell_type": "code",
   "execution_count": null,
   "id": "4d9049bc",
   "metadata": {},
   "outputs": [],
   "source": [
    "# 除算の例\n",
    "division_result = a / 3  # 結果は 3.3333333333333335（float 型）\n",
    "integer_division_result = a // 3  # 結果は 3（int 型）\n",
    "\n",
    "print(\"除算結果:\", division_result)\n",
    "print(\"整数除算結果:\", integer_division_result)"
   ]
  },
  {
   "cell_type": "code",
   "execution_count": null,
   "id": "30a3be50",
   "metadata": {},
   "outputs": [],
   "source": [
    "# 浮動小数点数の代入\n",
    "x = 3.14\n",
    "y = -0.5\n",
    "z = 2.0  # 小数点を付けると float 型になる\n",
    "\n",
    "# 浮動小数点数の計算\n",
    "sum_result = x + y  # 3.14 + (-0.5) = 2.64\n",
    "product_result = x * y  # 3.14 * (-0.5) = -1.57\n",
    "\n",
    "print(\"x:\", x)\n",
    "print(\"y:\", y)\n",
    "print(\"z:\", z)\n",
    "print(\"合計:\", sum_result)\n",
    "print(\"積:\", product_result)"
   ]
  },
  {
   "cell_type": "code",
   "execution_count": null,
   "id": "68279658",
   "metadata": {},
   "outputs": [],
   "source": [
    "# 浮動小数点数の誤差の例\n",
    "result = 0.1 + 0.2\n",
    "print(\"0.1 + 0.2 =\", result)"
   ]
  },
  {
   "cell_type": "code",
   "execution_count": null,
   "id": "5b31bec0",
   "metadata": {},
   "outputs": [],
   "source": [
    "a = 10  # int 型\n",
    "b = float(a)  # float 型に変換\n",
    "\n",
    "print(\"a の型:\", type(a))\n",
    "print(\"b の型:\", type(b))"
   ]
  },
  {
   "cell_type": "code",
   "execution_count": null,
   "id": "0e303e16",
   "metadata": {},
   "outputs": [],
   "source": [
    "x = 3.99  # float 型\n",
    "y = int(x)  # int 型に変換（小数部分は切り捨て）\n",
    "\n",
    "print(\"x の型:\", type(x))\n",
    "print(\"y の型:\", type(y))\n",
    "print(\"y の値:\", y)"
   ]
  },
  {
   "cell_type": "code",
   "execution_count": null,
   "id": "32f5c58e",
   "metadata": {},
   "outputs": [],
   "source": [
    "text1 = \"「'」はシングルクォートです。\"\n",
    "text2 = '「\"」はダブルクォートです。'\n",
    "print(text1)\n",
    "print(text2)"
   ]
  },
  {
   "cell_type": "code",
   "execution_count": null,
   "id": "189e278c",
   "metadata": {},
   "outputs": [],
   "source": [
    "# 文字列の結合\n",
    "text1 = \"Hello\"\n",
    "text2 = \"World\"\n",
    "result = text1 + \" \" + text2\n",
    "print(result)  # 'Hello World'\n",
    "\n",
    "# 文字列の繰り返し\n",
    "text = \"Hi! \"\n",
    "print(text * 3)  # 'Hi! Hi! Hi! '\n",
    "\n",
    "# 文字列の長さを取得\n",
    "length = len(\"Hello, World!\")  # 13\n",
    "print(\"文字列の長さ:\", length)"
   ]
  },
  {
   "cell_type": "code",
   "execution_count": null,
   "id": "4cdf3944",
   "metadata": {},
   "outputs": [],
   "source": [
    "# 大文字や小文字に変換\n",
    "text = \"Python\"\n",
    "print(text.upper())  # 'PYTHON'\n",
    "print(text.lower())  # 'python'\n",
    "\n",
    "# 部分文字列を置換\n",
    "text = \"Hello, World\"\n",
    "print(text.replace(\"World\", \"Python\"))  # 'Hello, Python'\n",
    "\n",
    "# 前後の空白や指定した文字を削除\n",
    "text = \"  Hello, World!  \"\n",
    "print(text.strip())  # 'Hello, World!'\n",
    "\n",
    "# 部分文字列の最初の位置を検索\n",
    "text = \"Hello, World\"\n",
    "print(text.find(\"World\"))  # 7"
   ]
  },
  {
   "cell_type": "code",
   "execution_count": null,
   "id": "51c6bb22",
   "metadata": {},
   "outputs": [],
   "source": [
    "print(\"エスケープを使うと、「\\'」シングルクォートと「\\\"」ダブルクォートを混在させたり、\\n改行や\\tタブを入れたりと多彩な表現が可能です\")"
   ]
  },
  {
   "cell_type": "code",
   "execution_count": null,
   "id": "758fdcf3",
   "metadata": {},
   "outputs": [],
   "source": [
    "message = '''A様\n",
    "いつもお世話になっております。Bです。\n",
    "先日はお越しくださりありがとうございました。\n",
    "またのご来店をお待ちしております。'''\n",
    "\n",
    "print(message)"
   ]
  },
  {
   "cell_type": "code",
   "execution_count": null,
   "id": "1cda57a3",
   "metadata": {},
   "outputs": [],
   "source": [
    "price = \"100\"\n",
    "print(\"税込価格は\", price * 1.1, \"円です\")"
   ]
  },
  {
   "cell_type": "code",
   "execution_count": null,
   "id": "03ac8a3f",
   "metadata": {},
   "outputs": [],
   "source": [
    "num = 100  # int 型\n",
    "num_str = str(num)  # 文字列に変換\n",
    "\n",
    "print(\"num_str の型:\", type(num_str))\n",
    "print(\"num_str の値:\", num_str)\n",
    "\n",
    "# 文字列から数値へ\n",
    "str_value = \"250\"\n",
    "int_value = int(str_value)\n",
    "\n",
    "print(\"int_value の型:\", type(int_value))\n",
    "print(\"int_value の値:\", int_value)"
   ]
  },
  {
   "cell_type": "code",
   "execution_count": null,
   "id": "af5e6715",
   "metadata": {},
   "outputs": [],
   "source": [
    "name = input(\"名前を入力してください: \")\n",
    "print(\"こんにちは、\" + name + \"さん!\")"
   ]
  },
  {
   "cell_type": "code",
   "execution_count": null,
   "id": "3dcd7c4d",
   "metadata": {},
   "outputs": [],
   "source": [
    "num = int(input(\"数値を入力してください: \"))\n",
    "result = num + 10\n",
    "print(\"入力した数値に10を足すと\", result, \"です\")"
   ]
  },
  {
   "cell_type": "code",
   "execution_count": null,
   "id": "24422949",
   "metadata": {},
   "outputs": [],
   "source": [
    "a = 5\n",
    "b = 10\n",
    "print(f\"{a}足す{b}は{a + b}です。\")"
   ]
  },
  {
   "cell_type": "code",
   "execution_count": null,
   "id": "920fd7b3",
   "metadata": {},
   "outputs": [],
   "source": [
    "# 小数点以下の桁数\n",
    "pi = 3.14159\n",
    "print(f\"小数点以下の桁数: {pi:.2f}\") # 2桁に指定\n",
    "\n",
    "# カンマ区切り\n",
    "large_number = 1234567890\n",
    "print(f\"カンマ区切り: {large_number:,}\")\n",
    "\n",
    "# 文字列の出力幅\n",
    "name = \"Alice\"\n",
    "print(f\"文字列の幅「{name:10}」\")  # 10文字分の幅で表示\n",
    "\n",
    "# ゼロ埋め\n",
    "num = 42\n",
    "print(f\"ゼロ埋め: {num:05}\")  # 5桁で表示し、足りない部分はゼロで埋める\n",
    "\n",
    "# パーセント表示\n",
    "accuracy = 0.856\n",
    "print(f\"パーセント表示: {accuracy:.1%}\")\n",
    "\n",
    "# 揃え\n",
    "name = \"Alice\"\n",
    "print(f\"左揃え　「{name:<10}」\")  # 左揃えで10文字幅\n",
    "print(f\"右揃え　「{name:>10}」\")  # 右揃えで10文字幅\n",
    "print(f\"中央揃え「{name:^10}」\")  # 中央揃えで10文字幅\n",
    "\n",
    "# 日時のフォーマット\n",
    "from datetime import datetime\n",
    "now = datetime.now()\n",
    "print(f\"現在日時: {now:%Y-%m-%d %H:%M:%S}\")"
   ]
  }
 ],
 "metadata": {
  "kernelspec": {
   "display_name": ".venv",
   "language": "python",
   "name": "python3"
  },
  "language_info": {
   "name": "python",
   "version": "3.12.10"
  }
 },
 "nbformat": 4,
 "nbformat_minor": 5
}
