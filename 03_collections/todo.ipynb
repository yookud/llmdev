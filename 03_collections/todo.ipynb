{
 "cells": [
  {
   "cell_type": "code",
   "execution_count": null,
   "id": "451e3d08",
   "metadata": {},
   "outputs": [],
   "source": [
    "# TODOリストを格納するリスト\n",
    "filename = \"todo_list.txt\"\n",
    "try:\n",
    "    # ファイルが存在したら内容を読込\n",
    "    with open(filename, \"r\", encoding=\"utf-8\") as file:\n",
    "        todo_list = [line.strip() for line in file]\n",
    "except FileNotFoundError:\n",
    "    # ファイルが存在しない場合は新しいリストを作成\n",
    "    todo_list = []\n",
    "\n",
    "# メニュー表示\n",
    "print(\"【TODOリスト】\")\n",
    "\n",
    "while True:\n",
    "    print(\"番号を入力してください[1:追加、2:表示、3:削除、4:保存と終了]:\", end=\"\", flush=True)\n",
    "    choice = input(\"\")\n",
    "\n",
    "    if choice == \"1\":\n",
    "        print(\"1:追加\", flush=True)\n",
    "        add_todo = input(\"追加するTODO: \")\n",
    "        print(\"追加するTODO:\", add_todo, flush=True)\n",
    "        todo_list.append(add_todo)\n",
    "    elif choice == \"2\":\n",
    "        print(\"2:表示\", flush=True)\n",
    "        for i, todo in enumerate(todo_list):\n",
    "            print(f\"{i}. {todo}\")\n",
    "    elif choice == \"3\":\n",
    "        # 「3」を入力すると、現在のTODOリストが番号付きで表示され、削除したい項目の番号を指定して削除できます。\n",
    "        # 指定した番号が無効な場合や、数字以外が入力された場合はエラーメッセージが表示され、削除操作がキャンセルされます。\n",
    "        print(\"3:削除\", flush=True)\n",
    "        for i, todo in enumerate(todo_list):\n",
    "            print(f\"{i}. {todo}\")\n",
    "        try:\n",
    "            remove_todo = int(input(\"削除するTODO: \"))\n",
    "            print(\"削除するTODO:\", remove_todo, flush=True)\n",
    "            todo_list.pop(remove_todo)\n",
    "        except ValueError:\n",
    "            print(\"エラー: 無効な番号です。\")\n",
    "        except IndexError:\n",
    "            print(\"エラー: 無効な番号です。\")\n",
    "    elif choice == \"4\":\n",
    "        print(\"4:保存と終了\", flush=True)\n",
    "        with open(filename, \"w\", encoding=\"utf-8\") as file:\n",
    "            file.writelines(f\"{todo}\\n\" for todo in todo_list)\n",
    "        print(\"TODOリストを保存して終了します。\", flush=True)\n",
    "        break\n",
    "    else:\n",
    "        print(\"1-4の数字を入力してください。\", flush=True)"
   ]
  }
 ],
 "metadata": {
  "kernelspec": {
   "display_name": ".venv",
   "language": "python",
   "name": "python3"
  },
  "language_info": {
   "codemirror_mode": {
    "name": "ipython",
    "version": 3
   },
   "file_extension": ".py",
   "mimetype": "text/x-python",
   "name": "python",
   "nbconvert_exporter": "python",
   "pygments_lexer": "ipython3",
   "version": "3.12.10"
  }
 },
 "nbformat": 4,
 "nbformat_minor": 5
}
