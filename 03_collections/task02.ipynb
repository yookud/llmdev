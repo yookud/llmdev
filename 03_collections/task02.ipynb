{
 "cells": [
  {
   "cell_type": "markdown",
   "id": "fec029bc",
   "metadata": {},
   "source": [
    "英単語の入力を受け付けます。未入力でリターン（エンター）キーを押されるまで、英単語の受付を繰り返します。受付が完了したら、入力された英単語をABC順に並べ替えて表示します。また、すべての英単語に含まれるアルファベットごとの数も表示します。"
   ]
  },
  {
   "cell_type": "code",
   "execution_count": null,
   "id": "684080a5",
   "metadata": {},
   "outputs": [],
   "source": [
    "# 英単語を格納するための空のリスト\n",
    "word_list = []\n",
    "\n",
    "# キーがアルファベット小文字の各文字で、値が0の辞書\n",
    "occurrence_dict = dict.fromkeys(['a','b','c','d','e','f','g','h','i','j','k','l','m','n','o','p','q','r','s','t','u','v','w','x','y','z'], 0)\n",
    "\n",
    "while True:\n",
    "  # キーボードから英単語の入力を受けつけ\n",
    "  word = input('英単語を入力してください:')\n",
    "  if word == '':\n",
    "    break\n",
    "\n",
    "  # 入力された英単語を構成する文字を1文字ずつ確認して、登場した数を加算\n",
    "  for charactor in word:\n",
    "    occurrence_dict[charactor] += 1\n",
    "\n",
    "  # 入力された英単語は都度リストに格納\n",
    "  word_list.append(word)\n",
    "\n",
    "# 入力された英単語のリストを一覧表示\n",
    "word_list.sort()\n",
    "print(f'入力した英単語：{word_list}')\n",
    "\n",
    "# 辞書を使って加算した値のうち、1文字以上あったすべての文字について「○が△個ありました」を表示\n",
    "for charactor in occurrence_dict:\n",
    "  if occurrence_dict[charactor] > 0:\n",
    "    print(f'{charactor}が{occurrence_dict[charactor]}個ありました')"
   ]
  }
 ],
 "metadata": {
  "kernelspec": {
   "display_name": ".venv",
   "language": "python",
   "name": "python3"
  },
  "language_info": {
   "codemirror_mode": {
    "name": "ipython",
    "version": 3
   },
   "file_extension": ".py",
   "mimetype": "text/x-python",
   "name": "python",
   "nbconvert_exporter": "python",
   "pygments_lexer": "ipython3",
   "version": "3.12.10"
  }
 },
 "nbformat": 4,
 "nbformat_minor": 5
}
