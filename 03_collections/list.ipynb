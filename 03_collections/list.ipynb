{
 "cells": [
  {
   "cell_type": "code",
   "execution_count": null,
   "id": "25bbde88",
   "metadata": {},
   "outputs": [],
   "source": [
    "# 数値を格納したリスト\n",
    "numbers = [1, 2, 3, 4, 5]\n",
    "print(numbers) # [1, 2, 3, 4, 5]\n",
    "\n",
    "# 文字列を格納したリスト\n",
    "fruits = [\"apple\", \"banana\", \"cherry\"]\n",
    "print(fruits) # ['apple', 'banana', 'cherry']\n",
    "\n",
    "# 異なるデータ型を混在させたリスト\n",
    "mixed = [1, \"apple\", 3.14, True]\n",
    "print(mixed) # [1, 'apple', 3.14, True]\n",
    "\n",
    "# 空のリスト\n",
    "empty_list = []\n",
    "print(empty_list) # []"
   ]
  },
  {
   "cell_type": "code",
   "execution_count": null,
   "id": "c8e1b918",
   "metadata": {},
   "outputs": [],
   "source": [
    "# 文字列をリストに変換\n",
    "string_to_list = list(\"hello\")\n",
    "print(string_to_list)  # [\"h\", \"e\", \"l\", \"l\", \"o\"]\n",
    "\n",
    "# タプルをリストに変換\n",
    "tuple_to_list = list((1, 2, 3))\n",
    "print(tuple_to_list)  # [1, 2, 3]\n",
    "\n",
    "# range()関数で生成された範囲をリストに変換\n",
    "range_to_list = list(range(5))\n",
    "print(range_to_list)  # [0, 1, 2, 3, 4]\n",
    "\n",
    "# list()関数を使った空のリスト\n",
    "empty_list = list()\n",
    "print(empty_list)  # []"
   ]
  },
  {
   "cell_type": "code",
   "execution_count": null,
   "id": "87b8ecdc",
   "metadata": {},
   "outputs": [],
   "source": [
    "# None で初期化されたリスト\n",
    "none_list = [None] * 5\n",
    "print(none_list)  # [None, None, None, None, None]\n",
    "\n",
    "# 特定の値で初期化されたリスト\n",
    "zeros = [0] * 10\n",
    "print(zeros)  # [0, 0, 0, 0, 0, 0, 0, 0, 0, 0]"
   ]
  },
  {
   "cell_type": "code",
   "execution_count": null,
   "id": "afe30bd7",
   "metadata": {},
   "outputs": [],
   "source": [
    "# 元のリスト\n",
    "original = [1, 2, 3]\n",
    "\n",
    "# スライスによるコピー\n",
    "copy1 = original[:]\n",
    "print(copy1)  # [1, 2, 3]\n",
    "\n",
    "# list() 関数によるコピー\n",
    "copy2 = list(original)\n",
    "print(copy2)  # [1, 2, 3]\n",
    "\n",
    "# copy() メソッドによるコピー\n",
    "copy3 = original.copy()\n",
    "print(copy3)  # [1, 2, 3]"
   ]
  },
  {
   "cell_type": "code",
   "execution_count": null,
   "id": "a57e3735",
   "metadata": {},
   "outputs": [],
   "source": [
    "import copy\n",
    "\n",
    "# 元のリスト（多次元リスト）\n",
    "original_list = [[1, 2], [3, 4]]\n",
    "\n",
    "# 浅いコピーを作成\n",
    "shallow_copied_list = copy.copy(original_list)\n",
    "# 深いコピーを作成\n",
    "deep_copied_list = copy.deepcopy(original_list)\n",
    "\n",
    "# 浅いコピーのリストを変更\n",
    "shallow_copied_list[0][0] = 100\n",
    "# 深いコピーのリストを変更\n",
    "deep_copied_list[1][1] = 200\n",
    "\n",
    "# 結果の出力\n",
    "print(\"元のリスト:\", original_list)             \n",
    "print(\"浅いコピー:\", shallow_copied_list)       \n",
    "# → 浅いコピーの変更が元のリストに影響している\n",
    "\n",
    "print(\"深いコピー:\", deep_copied_list)         \n",
    "# → 深いコピーの変更は元のリストには影響しない"
   ]
  },
  {
   "cell_type": "code",
   "execution_count": null,
   "id": "9efde8cd",
   "metadata": {},
   "outputs": [],
   "source": [
    "fruits = [\"apple\", \"banana\", \"cherry\"]\n",
    "\n",
    "# インデックス0（最初の要素）にアクセス\n",
    "print(fruits[0])  # apple\n",
    "\n",
    "# インデックス-1（最後の要素）にアクセス\n",
    "print(fruits[-1])  # cherry\n",
    "\n",
    "# インデックス1の要素を \"orange\" に変更\n",
    "fruits[1] = \"orange\"\n",
    "print(fruits)  # [\"apple\", \"orange\", \"cherry\"]"
   ]
  },
  {
   "cell_type": "code",
   "execution_count": null,
   "id": "55dc36bf",
   "metadata": {},
   "outputs": [],
   "source": [
    "numbers = [0, 1, 2, 3, 4, 5]\n",
    "\n",
    "# インデックス1から3の要素を取得（3は含まない）\n",
    "print(numbers[1:3])  # [1, 2]\n",
    "\n",
    "# 最初からインデックス3まで（3は含まない）\n",
    "print(numbers[:3])  # [0, 1, 2]\n",
    "\n",
    "# インデックス2から最後まで\n",
    "print(numbers[2:])  # [2, 3, 4, 5]\n",
    "\n",
    "# 全要素を逆順に\n",
    "print(numbers[::-1])  # [5, 4, 3, 2, 1, 0]"
   ]
  },
  {
   "cell_type": "code",
   "execution_count": null,
   "id": "eb580f72",
   "metadata": {},
   "outputs": [],
   "source": [
    "fruits = [\"apple\", \"banana\"]\n",
    "\n",
    "# 末尾に \"cherry\" を追加\n",
    "fruits.append(\"cherry\")\n",
    "print(fruits)  # [\"apple\", \"banana\", \"cherry\"]\n",
    "\n",
    "# インデックス1の位置に \"orange\" を挿入\n",
    "fruits.insert(1, \"orange\")\n",
    "print(fruits)  # [\"apple\", \"orange\", \"banana\", \"cherry\"]\n",
    "\n",
    "# リストに別のリストを結合\n",
    "fruits.extend([\"mango\", \"grape\"])\n",
    "print(fruits)  # [\"apple\", \"orange\", \"banana\", \"cherry\", \"mango\", \"grape\"]"
   ]
  },
  {
   "cell_type": "code",
   "execution_count": null,
   "id": "dfc4af9d",
   "metadata": {},
   "outputs": [],
   "source": [
    "fruits = [\"apple\", \"banana\", \"cherry\", \"banana\"]\n",
    "\n",
    "# 指定インデックスの要素を削除（インデックス1）\n",
    "del_item = fruits.pop(1)\n",
    "print(fruits)  # [\"apple\", \"cherry\", \"banana\"]\n",
    "print(del_item) # banana\n",
    "\n",
    "# 指定の値に一致する最初の要素を削除\n",
    "fruits.remove(\"banana\")\n",
    "print(fruits)  # [\"apple\", \"cherry\"]\n",
    "\n",
    "# del キーワードで指定の要素を削除（インデックス0）\n",
    "del fruits[0]\n",
    "print(fruits)  # [\"cherry\"]\n",
    "\n",
    "# 全要素を削除して空リストにする\n",
    "fruits.clear()\n",
    "print(fruits)  # []"
   ]
  },
  {
   "cell_type": "code",
   "execution_count": null,
   "id": "a592708e",
   "metadata": {},
   "outputs": [],
   "source": [
    "list1 = [1, 2, 3]\n",
    "list2 = [4, 5, 6]\n",
    "\n",
    "# + 演算子を使って結合\n",
    "combined = list1 + list2\n",
    "print(combined)  # [1, 2, 3, 4, 5, 6]\n",
    "\n",
    "# extend() メソッドを使って結合\n",
    "list1.extend(list2)\n",
    "print(list1)  # [1, 2, 3, 4, 5, 6]"
   ]
  },
  {
   "cell_type": "code",
   "execution_count": null,
   "id": "bcffeef3",
   "metadata": {},
   "outputs": [],
   "source": [
    "fruits = [\"apple\", \"banana\", \"cherry\"]\n",
    "\n",
    "# 要素がリストに含まれているか確認\n",
    "print(\"banana\" in fruits)  # True\n",
    "\n",
    "# 指定要素のインデックスを取得\n",
    "print(fruits.index(\"cherry\"))  # 2"
   ]
  },
  {
   "cell_type": "code",
   "execution_count": null,
   "id": "1a61d590",
   "metadata": {},
   "outputs": [],
   "source": [
    "numbers = [1, 2, 3, 2, 4, 2, 5]\n",
    "\n",
    "# 2がリストに何回登場するか\n",
    "print(numbers.count(2))  # 3"
   ]
  },
  {
   "cell_type": "code",
   "execution_count": null,
   "id": "2f0f3d70",
   "metadata": {},
   "outputs": [],
   "source": [
    "numbers = [3, 1, 4, 1, 5, 9, 2]\n",
    "\n",
    "# 昇順に並べ替え\n",
    "numbers.sort()\n",
    "print(numbers)  # [1, 1, 2, 3, 4, 5, 9]\n",
    "\n",
    "# 降順に並べ替え\n",
    "numbers.sort(reverse=True)\n",
    "print(numbers)  # [9, 5, 4, 3, 2, 1, 1]\n",
    "\n",
    "# sorted() 関数で並べ替えた新しいリストを取得\n",
    "sorted_numbers = sorted(numbers)\n",
    "print(sorted_numbers)  # [1, 1, 2, 3, 4, 5, 9]\n",
    "print(numbers)         # 元のリストはそのまま: [9, 5, 4, 3, 2, 1, 1]"
   ]
  },
  {
   "cell_type": "code",
   "execution_count": null,
   "id": "b260922d",
   "metadata": {},
   "outputs": [],
   "source": [
    "# forループで作成する方法\n",
    "numbers = []\n",
    "for i in range(1, 6):\n",
    "    numbers.append(i)\n",
    "print(numbers)  # 出力: [1, 2, 3, 4, 5]"
   ]
  },
  {
   "cell_type": "code",
   "execution_count": null,
   "id": "641b626b",
   "metadata": {},
   "outputs": [],
   "source": [
    "# リスト内包表記を使用した方法\n",
    "numbers = [i for i in range(1, 6)]\n",
    "print(numbers)  # 出力: [1, 2, 3, 4, 5]"
   ]
  },
  {
   "cell_type": "code",
   "execution_count": null,
   "id": "15881875",
   "metadata": {},
   "outputs": [],
   "source": [
    "# 各要素の2乗を格納するリスト\n",
    "squares = [i**2 for i in range(1, 6)]\n",
    "print(squares)  # 出力: [1, 4, 9, 16, 25]"
   ]
  },
  {
   "cell_type": "code",
   "execution_count": null,
   "id": "73996445",
   "metadata": {},
   "outputs": [],
   "source": [
    "# 偶数はそのまま、奇数は2倍にするリスト\n",
    "modified_numbers = [i if i % 2 == 0 else i * 2 for i in range(1, 6)]\n",
    "print(modified_numbers)  # 出力: [2, 2, 6, 4, 10]"
   ]
  },
  {
   "cell_type": "code",
   "execution_count": null,
   "id": "ac2de55b",
   "metadata": {},
   "outputs": [],
   "source": [
    "# 偶数のみを含むリスト\n",
    "even_numbers = [i for i in range(1, 11) if i % 2 == 0]\n",
    "print(even_numbers)  # 出力: [2, 4, 6, 8, 10]"
   ]
  },
  {
   "cell_type": "code",
   "execution_count": null,
   "id": "e5660a09",
   "metadata": {},
   "outputs": [],
   "source": [
    "matrix = [\n",
    "    [1, 2, 3],\n",
    "    [4, 5, 6],\n",
    "    [7, 8, 9]\n",
    "]\n",
    "\n",
    "# インデックス0行0列の要素にアクセス（1行目1列目）\n",
    "print(matrix[0][0])  # 出力: 1\n",
    "\n",
    "# インデックス2行1列の要素にアクセス（3行目2列目）\n",
    "print(matrix[2][1])  # 出力: 8"
   ]
  },
  {
   "cell_type": "code",
   "execution_count": null,
   "id": "887bc28f",
   "metadata": {},
   "outputs": [],
   "source": [
    "matrix = [\n",
    "    [1, 2, 3],\n",
    "    [4, 5, 6],\n",
    "    [7, 8, 9]\n",
    "]\n",
    "\n",
    "# 2次元リストをネストしたループで表示\n",
    "for row in matrix:\n",
    "    for element in row:\n",
    "        print(f\"{element:2d}\", end=\"\") # 改行を出力しない指定\n",
    "    print()  # 改行"
   ]
  },
  {
   "cell_type": "code",
   "execution_count": null,
   "id": "1dc720f2",
   "metadata": {},
   "outputs": [],
   "source": [
    "# 3x3行列の作成\n",
    "matrix = [[i * j for j in range(1, 4)] for i in range(1, 4)]\n",
    "print(matrix)"
   ]
  },
  {
   "cell_type": "code",
   "execution_count": null,
   "id": "e3d62788",
   "metadata": {},
   "outputs": [],
   "source": [
    "strings = [\"123\", \"abc\", \"456\", \"def\"]\n",
    "\n",
    "# 数字のみの要素を抽出\n",
    "numeric_strings = list(filter(str.isdigit, strings))\n",
    "print(numeric_strings)"
   ]
  },
  {
   "cell_type": "code",
   "execution_count": null,
   "id": "17f0ce27",
   "metadata": {},
   "outputs": [],
   "source": [
    "numbers = [1, 2, 3, 4, 5]\n",
    "\n",
    "# 各整数を文字列に変換\n",
    "str_numbers = list(map(str, numbers))\n",
    "print(str_numbers)"
   ]
  },
  {
   "cell_type": "code",
   "execution_count": null,
   "id": "c48d5586",
   "metadata": {},
   "outputs": [],
   "source": [
    "names = [\"Alice\", \"Bob\", \"Charlie\"]\n",
    "ages = [25, 30, 35]\n",
    "\n",
    "# 名前と年齢をペアにする\n",
    "paired_list = list(zip(names, ages))\n",
    "print(paired_list)"
   ]
  },
  {
   "cell_type": "code",
   "execution_count": null,
   "id": "14e9f6b5",
   "metadata": {},
   "outputs": [],
   "source": [
    "fruits = [\"apple\", \"banana\", \"cherry\"]\n",
    "\n",
    "# インデックスと要素を同時に取得\n",
    "for index, fruit in enumerate(fruits):\n",
    "    print(f\"{index}番目の要素は「{fruit}」です。\")"
   ]
  }
 ],
 "metadata": {
  "kernelspec": {
   "display_name": ".venv",
   "language": "python",
   "name": "python3"
  },
  "language_info": {
   "name": "python",
   "version": "3.12.10"
  }
 },
 "nbformat": 4,
 "nbformat_minor": 5
}
