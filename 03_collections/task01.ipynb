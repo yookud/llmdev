{
 "cells": [
  {
   "cell_type": "markdown",
   "id": "6f233345",
   "metadata": {},
   "source": [
    "学生の成績をリストとして定義します。以下のソースコードを使用してください。\n",
    "grades = [85, 90, 78, 92, 88]\n",
    "成績のリストを使用して以下を行ってください。\n",
    "成績の平均点を計算します。\n",
    "成績の最高点と最低点を求めます。\n",
    "成績が平均以上の学生数をカウントします。\n",
    "結果を出力してください。"
   ]
  },
  {
   "cell_type": "code",
   "execution_count": 1,
   "id": "f7effe6b",
   "metadata": {},
   "outputs": [
    {
     "name": "stdout",
     "output_type": "stream",
     "text": [
      "平均点: 86.6\n",
      "最高点: 92\n",
      "最低点: 78\n",
      "平均以上の学生数: 3\n"
     ]
    }
   ],
   "source": [
    "grades = [85, 90, 78, 92, 88]\n",
    "# grades = [70, 75, 80, 85, 90]\n",
    "\n",
    "total = 0\n",
    "max = None\n",
    "min = None\n",
    "\n",
    "for grade in grades:\n",
    "    total += grade\n",
    "    if max is None or grade > max:\n",
    "        max = grade\n",
    "    if min is None or grade <= min:\n",
    "        min = grade \n",
    "\n",
    "average = total / len(grades)\n",
    "\n",
    "print(f'平均点: {average}')\n",
    "print(f'最高点: {max}')\n",
    "print(f'最低点: {min}')\n",
    "\n",
    "count_average_or_more = 0\n",
    "\n",
    "for grade in grades:\n",
    "    if grade >= average:\n",
    "        count_average_or_more += 1 \n",
    "\n",
    "print(f'平均以上の学生数: {count_average_or_more}')"
   ]
  }
 ],
 "metadata": {
  "kernelspec": {
   "display_name": ".venv",
   "language": "python",
   "name": "python3"
  },
  "language_info": {
   "codemirror_mode": {
    "name": "ipython",
    "version": 3
   },
   "file_extension": ".py",
   "mimetype": "text/x-python",
   "name": "python",
   "nbconvert_exporter": "python",
   "pygments_lexer": "ipython3",
   "version": "3.12.10"
  }
 },
 "nbformat": 4,
 "nbformat_minor": 5
}
