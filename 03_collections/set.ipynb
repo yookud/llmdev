{
 "cells": [
  {
   "cell_type": "code",
   "execution_count": null,
   "id": "acf76285",
   "metadata": {},
   "outputs": [],
   "source": [
    "# 数値を格納したセット\n",
    "numbers = {1, 2, 3, 4, 5}\n",
    "print(numbers)  # {1, 2, 3, 4, 5}\n",
    "\n",
    "# 異なるデータ型の値を格納したセット\n",
    "mixed_set = {\"apple\", 42, (1, 2, 3)}\n",
    "print(mixed_set)  # {'apple', 42, (1, 2, 3)}\n",
    "\n",
    "# 空のセット（空の辞書と区別するために set() を使用）\n",
    "empty_set = set()\n",
    "print(empty_set)  # set()"
   ]
  },
  {
   "cell_type": "code",
   "execution_count": null,
   "id": "2ac5c43c",
   "metadata": {},
   "outputs": [],
   "source": [
    "# リストからセットを作成\n",
    "numbers_list = [1, 2, 3, 2, 1]\n",
    "unique_numbers = set(numbers_list)\n",
    "print(unique_numbers)  # {1, 2, 3}\n",
    "\n",
    "# 文字列からセットを作成\n",
    "letters = set(\"hello\")\n",
    "print(letters)  # {'h', 'e', 'l', 'o'}"
   ]
  },
  {
   "cell_type": "code",
   "execution_count": null,
   "id": "320b3b9b",
   "metadata": {},
   "outputs": [],
   "source": [
    "fruits = {\"apple\", \"banana\"}\n",
    "fruits.add(\"cherry\")\n",
    "print(fruits)  # {'apple', 'banana', 'cherry'}\n",
    "\n",
    "# すでに存在する要素を追加してもセットには影響なし\n",
    "fruits.add(\"apple\")\n",
    "print(fruits)  # {'apple', 'banana', 'cherry'}"
   ]
  },
  {
   "cell_type": "code",
   "execution_count": null,
   "id": "4ed161a5",
   "metadata": {},
   "outputs": [],
   "source": [
    "fruits = {\"apple\", \"banana\", \"cherry\"}\n",
    "\n",
    "# 特定の要素を削除\n",
    "fruits.remove(\"banana\")\n",
    "print(fruits)  # {'apple', 'cherry'}\n",
    "\n",
    "# 存在しない要素の削除\n",
    "fruits.discard(\"orange\")  # エラーにならない\n",
    "print(fruits)  # {'apple', 'cherry'}\n",
    "\n",
    "# 任意の要素を削除\n",
    "removed_item = fruits.pop()\n",
    "print(fruits)  # {'cherry'}（'apple' が削除されたと仮定）\n",
    "print(removed_item)  # apple\n",
    "\n",
    "# セットを空にする\n",
    "fruits.clear()\n",
    "print(fruits)  # set()"
   ]
  },
  {
   "cell_type": "code",
   "execution_count": null,
   "id": "15c80652",
   "metadata": {},
   "outputs": [],
   "source": [
    "a = {1, 2, 3, 4}\n",
    "b = {3, 4, 5, 6}\n",
    "\n",
    "# 和集合\n",
    "print(a | b)  # {1, 2, 3, 4, 5, 6}\n",
    "\n",
    "# 積集合\n",
    "print(a & b)  # {3, 4}\n",
    "\n",
    "# 差集合\n",
    "print(a - b)  # {1, 2}\n",
    "\n",
    "# 対称差集合\n",
    "print(a ^ b)  # {1, 2, 5, 6}"
   ]
  },
  {
   "cell_type": "code",
   "execution_count": null,
   "id": "c1a9620f",
   "metadata": {},
   "outputs": [],
   "source": [
    "fruits = {\"apple\", \"banana\", \"cherry\"}\n",
    "\n",
    "# \"apple\" がセットにあるか確認\n",
    "print(\"apple\" in fruits)  # True\n",
    "\n",
    "# \"grape\" がセットにあるか確認\n",
    "print(\"grape\" in fruits)  # False"
   ]
  }
 ],
 "metadata": {
  "kernelspec": {
   "display_name": ".venv",
   "language": "python",
   "name": "python3"
  },
  "language_info": {
   "name": "python",
   "version": "3.12.10"
  }
 },
 "nbformat": 4,
 "nbformat_minor": 5
}
