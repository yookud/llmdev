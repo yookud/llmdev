{
 "cells": [
  {
   "cell_type": "code",
   "execution_count": null,
   "id": "99a38c24",
   "metadata": {},
   "outputs": [],
   "source": [
    "s = \"abcdefghijklmnopqrstuvwxyz\"\n",
    "\n",
    "# 前から\n",
    "print(s[0]) # a\n",
    "print(s[1]) # b\n",
    "print(s[25]) # z\n",
    "\n",
    "# 後から\n",
    "print(s[-1]) # z\n",
    "print(s[-3]) # x\n",
    "print(s[-26]) # a"
   ]
  },
  {
   "cell_type": "code",
   "execution_count": null,
   "id": "63e6a707",
   "metadata": {},
   "outputs": [],
   "source": [
    "s = \"abcdefghijklmnopqrstuvwxyz\"\n",
    "\n",
    "# 前から\n",
    "print(s[0:7])\n",
    "print(s[21:26])\n",
    "\n",
    "# 後から\n",
    "print(s[-5:-1])"
   ]
  },
  {
   "cell_type": "code",
   "execution_count": null,
   "id": "0b547195",
   "metadata": {},
   "outputs": [],
   "source": [
    "s = \"abcdefghijklmnopqrstuvwxyz\"\n",
    "\n",
    "print(s[:10]) # 開始位置を省略\n",
    "print(s[10:]) # 終了位置を省略\n",
    "print(s[:])   # 両方省略"
   ]
  },
  {
   "cell_type": "code",
   "execution_count": null,
   "id": "dec72c5b",
   "metadata": {},
   "outputs": [],
   "source": [
    "s = \"abcdefghijklmnopqrstuvwxyz\"\n",
    "\n",
    "print(s[0:10:2]) # 2個おき\n",
    "print(s[1:20:3]) # 3個おき\n",
    "print(s[-1:-10:-2]) # 後から"
   ]
  },
  {
   "cell_type": "code",
   "execution_count": null,
   "id": "9ffe702f",
   "metadata": {},
   "outputs": [],
   "source": [
    "s = \"にんてんどううどんてんに\"\n",
    "if s == s[::-1]: # 元の値とひっくり返した値が同値である\n",
    "    print(f\"「{s}」は回文です！\")\n",
    "else:\n",
    "    print(f\"「{s}」は回文ではないです。\")\n",
    "\n",
    "s = \"Pythonは便利だが遅い\"\n",
    "if s == s[::-1]:\n",
    "    print(f\"「{s}」は回文です！\")\n",
    "else:\n",
    "    print(f\"「{s}」は回文ではないです。\")\n",
    "\n",
    "s = \"no devil lived on\"\n",
    "if s == s[::-1]:\n",
    "    print(f\"「{s}」は回文です！\")\n",
    "else:\n",
    "    print(f\"「{s}」は回文ではないです。\")"
   ]
  },
  {
   "cell_type": "code",
   "execution_count": null,
   "id": "b9f68cfa",
   "metadata": {},
   "outputs": [],
   "source": [
    "s = \"TechAcademy\"\n",
    "for char in s:\n",
    "    print(char)"
   ]
  },
  {
   "cell_type": "code",
   "execution_count": null,
   "id": "ab06af64",
   "metadata": {},
   "outputs": [],
   "source": [
    "s = \"TechAcademy\"\n",
    "for char in s:\n",
    "    print(char.upper())  # 各文字を大文字に変換して出力"
   ]
  },
  {
   "cell_type": "code",
   "execution_count": null,
   "id": "d00df6ea",
   "metadata": {},
   "outputs": [],
   "source": [
    "s = \"TechAcademy\"\n",
    "vowels = \"aeiouAEIOU\"  # 母音のリスト\n",
    "for char in s:\n",
    "    if char in vowels:\n",
    "        print(char)"
   ]
  },
  {
   "cell_type": "code",
   "execution_count": null,
   "id": "38f74cd0",
   "metadata": {},
   "outputs": [],
   "source": [
    "s = \"TechAcademy\"\n",
    "length = len(s)\n",
    "print(f\"文字列の長さ: {length}\")"
   ]
  },
  {
   "cell_type": "code",
   "execution_count": null,
   "id": "571ecd89",
   "metadata": {},
   "outputs": [],
   "source": [
    "s = \"Hello, world!\"\n",
    "if len(s) > 10:\n",
    "    print(\"10文字を超える長い文字列です。\")\n",
    "else:\n",
    "    print(\"10文字以内の短い文字列です。\")"
   ]
  },
  {
   "cell_type": "code",
   "execution_count": null,
   "id": "552f471c",
   "metadata": {},
   "outputs": [],
   "source": [
    "s = \"\"\n",
    "if len(s) == 0:\n",
    "    print(\"文字列は空です。\")\n",
    "else:\n",
    "    print(\"文字列は空ではありません。\")"
   ]
  }
 ],
 "metadata": {
  "kernelspec": {
   "display_name": ".venv",
   "language": "python",
   "name": "python3"
  },
  "language_info": {
   "name": "python",
   "version": "3.12.10"
  }
 },
 "nbformat": 4,
 "nbformat_minor": 5
}
