{
 "cells": [
  {
   "cell_type": "code",
   "execution_count": null,
   "id": "0cf61f97",
   "metadata": {},
   "outputs": [],
   "source": [
    "# 数値を格納したタプル\n",
    "numbers = (1, 2, 3, 4, 5)\n",
    "print(numbers)  # (1, 2, 3, 4, 5)\n",
    "\n",
    "# 文字列を格納したタプル\n",
    "fruits = (\"apple\", \"banana\", \"cherry\")\n",
    "print(fruits)  # ('apple', 'banana', 'cherry')\n",
    "\n",
    "# 異なるデータ型を混在させたタプル\n",
    "mixed = (1, \"apple\", 3.14, True)\n",
    "print(mixed)  # (1, 'apple', 3.14, True)\n",
    "\n",
    "# 空のタプル\n",
    "empty_tuple = ()\n",
    "print(empty_tuple)  # ()\n",
    "\n",
    "# 要素が1つだけのタプル\n",
    "one_element_tuple = (1,)\n",
    "print(one_element_tuple)  # ()"
   ]
  },
  {
   "cell_type": "code",
   "execution_count": null,
   "id": "2ebe7dcb",
   "metadata": {},
   "outputs": [],
   "source": [
    "# 文字列をタプルに変換\n",
    "string_to_tuple = tuple(\"hello\")\n",
    "print(string_to_tuple)  # ('h', 'e', 'l', 'l', 'o')\n",
    "\n",
    "# リストをタプルに変換\n",
    "list_to_tuple = tuple([1, 2, 3])\n",
    "print(list_to_tuple)  # (1, 2, 3)\n",
    "\n",
    "# range()関数で生成された範囲をタプルに変換\n",
    "range_to_tuple = tuple(range(5))\n",
    "print(range_to_tuple)  # (0, 1, 2, 3, 4)\n",
    "\n",
    "# tuple()関数を使った空のタプル\n",
    "empty_tuple = tuple()\n",
    "print(empty_tuple)  # ()"
   ]
  },
  {
   "cell_type": "code",
   "execution_count": null,
   "id": "a9edf650",
   "metadata": {},
   "outputs": [],
   "source": [
    "# None で初期化されたタプル\n",
    "none_tuple = (None,) * 5\n",
    "print(none_tuple)  # (None, None, None, None, None)\n",
    "\n",
    "# 特定の値で初期化されたタプル\n",
    "zeros = (0,) * 10\n",
    "print(zeros)  # (0, 0, 0, 0, 0, 0, 0, 0, 0, 0)"
   ]
  },
  {
   "cell_type": "code",
   "execution_count": null,
   "id": "d395a68b",
   "metadata": {},
   "outputs": [],
   "source": [
    "# 元のリスト\n",
    "original_list = [1, 2, 3]\n",
    "\n",
    "# listをタプルに変換\n",
    "copied_tuple = tuple(original_list)\n",
    "print(copied_tuple)  # (1, 2, 3)\n",
    "\n",
    "# タプル自体を新しいタプルにコピーする\n",
    "original_tuple = (4, 5, 6)\n",
    "copied_tuple2 = tuple(original_tuple)\n",
    "print(copied_tuple2)  # (4, 5, 6)"
   ]
  },
  {
   "cell_type": "code",
   "execution_count": null,
   "id": "19bf71f4",
   "metadata": {},
   "outputs": [],
   "source": [
    "fruits = (\"apple\", \"banana\", \"cherry\")\n",
    "\n",
    "# インデックス0（最初の要素）にアクセス\n",
    "print(fruits[0])  # apple\n",
    "\n",
    "# インデックス-1（最後の要素）にアクセス\n",
    "print(fruits[-1])  # cherry"
   ]
  },
  {
   "cell_type": "code",
   "execution_count": null,
   "id": "f0c1ffe3",
   "metadata": {},
   "outputs": [],
   "source": [
    "numbers = (0, 1, 2, 3, 4, 5)\n",
    "\n",
    "# インデックス1から3の要素を取得（3は含まない）\n",
    "print(numbers[1:3])  # (1, 2)\n",
    "\n",
    "# 最初からインデックス3まで（3は含まない）\n",
    "print(numbers[:3])  # (0, 1, 2)\n",
    "\n",
    "# インデックス2から最後まで\n",
    "print(numbers[2:])  # (2, 3, 4, 5)\n",
    "\n",
    "# 全要素を逆順に\n",
    "print(numbers[::-1])  # (5, 4, 3, 2, 1, 0)"
   ]
  },
  {
   "cell_type": "code",
   "execution_count": null,
   "id": "479d94dc",
   "metadata": {},
   "outputs": [],
   "source": [
    "fruits = (\"apple\", \"banana\", \"cherry\")\n",
    "\n",
    "# 要素がタプルに含まれているか確認\n",
    "print(\"banana\" in fruits)  # True\n",
    "\n",
    "# 指定要素のインデックスを取得\n",
    "print(fruits.index(\"cherry\"))  # 2"
   ]
  },
  {
   "cell_type": "code",
   "execution_count": null,
   "id": "4e423773",
   "metadata": {},
   "outputs": [],
   "source": [
    "numbers = (1, 2, 3, 2, 4, 2, 5)\n",
    "\n",
    "# 2がタプルに何回登場するか\n",
    "print(numbers.count(2))  # 3"
   ]
  },
  {
   "cell_type": "code",
   "execution_count": null,
   "id": "87110dec",
   "metadata": {},
   "outputs": [],
   "source": [
    "tuple1 = (1, 2, 3)\n",
    "tuple2 = (4, 5, 6)\n",
    "\n",
    "# + 演算子を使ってタプルを結合\n",
    "combined_tuple = tuple1 + tuple2\n",
    "print(combined_tuple)  # (1, 2, 3, 4, 5, 6)"
   ]
  }
 ],
 "metadata": {
  "kernelspec": {
   "display_name": ".venv",
   "language": "python",
   "name": "python3"
  },
  "language_info": {
   "name": "python",
   "version": "3.12.10"
  }
 },
 "nbformat": 4,
 "nbformat_minor": 5
}
