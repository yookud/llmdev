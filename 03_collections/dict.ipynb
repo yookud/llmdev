{
 "cells": [
  {
   "cell_type": "code",
   "execution_count": null,
   "id": "de128220",
   "metadata": {},
   "outputs": [],
   "source": [
    "# 数値を格納した辞書\n",
    "numbers = {\"one\": 1, \"two\": 2, \"three\": 3}\n",
    "print(numbers)  # {'one': 1, 'two': 2, 'three': 3}\n",
    "\n",
    "# 異なるデータ型の値を格納した辞書\n",
    "person = {\"name\": \"Alice\", \"age\": 25, \"is_student\": False}\n",
    "print(person)  # {'name': 'Alice', 'age': 25, 'is_student': False}\n",
    "\n",
    "# 空の辞書\n",
    "empty_dict = {}\n",
    "print(empty_dict)  # {}"
   ]
  },
  {
   "cell_type": "code",
   "execution_count": null,
   "id": "eba56637",
   "metadata": {},
   "outputs": [],
   "source": [
    "# キーワード引数で辞書を作成\n",
    "person = dict(name=\"Bob\", age=30, is_student=True)\n",
    "print(person)  # {'name': 'Bob', 'age': 30, 'is_student': True}\n",
    "\n",
    "# タプルのリストから辞書を作成\n",
    "pairs = [(\"apple\", 100), (\"banana\", 200), (\"cherry\", 300)]\n",
    "fruit_prices = dict(pairs)\n",
    "print(fruit_prices)  # {'apple': 100, 'banana': 200, 'cherry': 300}"
   ]
  },
  {
   "cell_type": "code",
   "execution_count": null,
   "id": "97b34e39",
   "metadata": {},
   "outputs": [],
   "source": [
    "# キーを \"key1\" から \"key5\" として、全ての値を 0 に初期化\n",
    "keys = [\"key1\", \"key2\", \"key3\", \"key4\", \"key5\"]\n",
    "repeated_values_dict = dict.fromkeys(keys, 0)\n",
    "print(repeated_values_dict)"
   ]
  },
  {
   "cell_type": "code",
   "execution_count": null,
   "id": "34c737cb",
   "metadata": {},
   "outputs": [],
   "source": [
    "fruit_prices = {\"apple\": 100, \"banana\": 200, \"cherry\": 300}\n",
    "\n",
    "# キー \"apple\" の値にアクセス\n",
    "print(fruit_prices[\"apple\"])  # 100\n",
    "\n",
    "# キー \"banana\" の値を 250 に変更\n",
    "fruit_prices[\"banana\"] = 250\n",
    "print(fruit_prices)  # {'apple': 100, 'banana': 250, 'cherry': 300}"
   ]
  },
  {
   "cell_type": "code",
   "execution_count": null,
   "id": "26330ece",
   "metadata": {},
   "outputs": [],
   "source": [
    "fruit_prices = {\"apple\": 100, \"banana\": 200}\n",
    "\n",
    "# 新しいキー \"grape\" と値を追加\n",
    "fruit_prices[\"grape\"] = 400\n",
    "print(fruit_prices)  # {'apple': 100, 'banana': 200, 'grape': 400}\n",
    "\n",
    "# 既存のキー \"banana\" の値を変更\n",
    "fruit_prices[\"banana\"] = 180\n",
    "print(fruit_prices)  # {'apple': 100, 'banana': 180, 'grape': 400}"
   ]
  },
  {
   "cell_type": "code",
   "execution_count": null,
   "id": "040f3c8e",
   "metadata": {},
   "outputs": [],
   "source": [
    "fruit_prices = {\"apple\": 100, \"banana\": 200, \"cherry\": 300}\n",
    "\n",
    "# 指定キーの要素を削除\n",
    "del_price = fruit_prices.pop(\"banana\")\n",
    "print(fruit_prices)  # {'apple': 100, 'cherry': 300}\n",
    "print(del_price)  # 200\n",
    "\n",
    "# 指定キーの要素を del キーワードで削除\n",
    "del fruit_prices[\"cherry\"]\n",
    "print(fruit_prices)  # {'apple': 100}\n",
    "\n",
    "# 辞書を空にする\n",
    "fruit_prices.clear()\n",
    "print(fruit_prices)  # {}"
   ]
  },
  {
   "cell_type": "code",
   "execution_count": null,
   "id": "4c297bdf",
   "metadata": {},
   "outputs": [],
   "source": [
    "fruit_prices = {\"apple\": 100, \"banana\": 200, \"cherry\": 300}\n",
    "\n",
    "# キーのリストを取得\n",
    "keys = fruit_prices.keys()\n",
    "print(keys)  # dict_keys(['apple', 'banana', 'cherry'])\n",
    "\n",
    "# 値のリストを取得\n",
    "values = fruit_prices.values()\n",
    "print(values)  # dict_values([100, 200, 300])\n",
    "\n",
    "# キーと値のペアを取得\n",
    "items = fruit_prices.items()\n",
    "print(items)  # dict_items([('apple', 100), ('banana', 200), ('cherry', 300)])"
   ]
  },
  {
   "cell_type": "code",
   "execution_count": null,
   "id": "bda8a564",
   "metadata": {},
   "outputs": [],
   "source": [
    "fruit_prices = {\"apple\": 100, \"banana\": 200, \"cherry\": 300}\n",
    "\n",
    "# \"apple\" が辞書にあるか確認\n",
    "print(\"apple\" in fruit_prices)  # True\n",
    "\n",
    "# \"grape\" が辞書にあるか確認\n",
    "print(\"grape\" in fruit_prices)  # False"
   ]
  }
 ],
 "metadata": {
  "kernelspec": {
   "display_name": ".venv",
   "language": "python",
   "name": "python3"
  },
  "language_info": {
   "name": "python",
   "version": "3.12.10"
  }
 },
 "nbformat": 4,
 "nbformat_minor": 5
}
