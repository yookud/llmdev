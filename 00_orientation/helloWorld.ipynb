{
 "cells": [
  {
   "cell_type": "code",
   "execution_count": null,
   "id": "00e78e37",
   "metadata": {},
   "outputs": [],
   "source": [
    "print(\"Hello! World!\")"
   ]
  }
 ],
 "metadata": {
  "kernelspec": {
   "display_name": ".venv",
   "language": "python",
   "name": "python3"
  },
  "language_info": {
   "name": "python",
   "version": "3.12.10"
  }
 },
 "nbformat": 4,
 "nbformat_minor": 5
}
