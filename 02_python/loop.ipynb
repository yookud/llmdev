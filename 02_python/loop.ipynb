{
 "cells": [
  {
   "cell_type": "code",
   "execution_count": null,
   "id": "5faf7e32",
   "metadata": {},
   "outputs": [],
   "source": [
    "for i in range(11):\n",
    "    print(i)"
   ]
  },
  {
   "cell_type": "code",
   "execution_count": null,
   "id": "80578241",
   "metadata": {},
   "outputs": [],
   "source": [
    "i = 0\n",
    "\n",
    "while i < 10:\n",
    "    i += 1\n",
    "    print(i)\n",
    "\n",
    "print(\"処理を終了します\")"
   ]
  },
  {
   "cell_type": "code",
   "execution_count": null,
   "id": "e251de0b",
   "metadata": {},
   "outputs": [],
   "source": [
    "i = 0\n",
    "\n",
    "while True:\n",
    "    i += 1\n",
    "\n",
    "    if i > 10:\n",
    "        break\n",
    "\n",
    "    print(i)\n",
    "\n",
    "print(\"処理を終了します\")"
   ]
  },
  {
   "cell_type": "code",
   "execution_count": null,
   "id": "8c216dd0",
   "metadata": {},
   "outputs": [],
   "source": [
    "i = 0\n",
    "\n",
    "while True:\n",
    "    i += 1\n",
    "\n",
    "    if i > 10:\n",
    "        break\n",
    "\n",
    "    if i % 2 == 1:\n",
    "        continue\n",
    "\n",
    "    print(i)\n",
    "\n",
    "print(\"処理を終了します\")"
   ]
  }
 ],
 "metadata": {
  "kernelspec": {
   "display_name": ".venv",
   "language": "python",
   "name": "python3"
  },
  "language_info": {
   "name": "python",
   "version": "3.12.10"
  }
 },
 "nbformat": 4,
 "nbformat_minor": 5
}
