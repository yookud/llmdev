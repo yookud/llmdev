{
 "cells": [
  {
   "cell_type": "markdown",
   "id": "3dcab95e",
   "metadata": {},
   "source": [
    "入力された税抜価格をもとに、消費税込の価格と送料を合計した「送料込価格」を計算し、結果を表示するソースコードを作成してください。\n",
    "\n",
    "税込価格が2000円以上の場合は送料無料、2000円未満の場合は350円とします。\n",
    "消費税率は10%です。\n",
    "税抜価格の入力には input() 関数を使用してください。\n",
    "結果の表示にはf文字列を使用してください。"
   ]
  },
  {
   "cell_type": "code",
   "execution_count": null,
   "id": "89067cb9",
   "metadata": {},
   "outputs": [],
   "source": [
    "price = input('税抜価格を入力してください：')\n",
    "\n",
    "# 税込価格を計算\n",
    "price = int(price) * 1.1\n",
    "\n",
    "if price >= 2000:\n",
    "  print('送料は無料です')\n",
    "else:\n",
    "  print('送料は350円です')\n",
    "\n",
    "  # 送料350円を税込価格にプラスします\n",
    "  price += 350\n",
    "\n",
    "# 送料込みの価格を画面に表示\n",
    "print(f'送料込税込価格は{int(price)}円です。')"
   ]
  }
 ],
 "metadata": {
  "kernelspec": {
   "display_name": ".venv",
   "language": "python",
   "name": "python3"
  },
  "language_info": {
   "codemirror_mode": {
    "name": "ipython",
    "version": 3
   },
   "file_extension": ".py",
   "mimetype": "text/x-python",
   "name": "python",
   "nbconvert_exporter": "python",
   "pygments_lexer": "ipython3",
   "version": "3.12.10"
  }
 },
 "nbformat": 4,
 "nbformat_minor": 5
}
